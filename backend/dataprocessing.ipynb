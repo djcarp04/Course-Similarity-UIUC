{
 "cells": [
  {
   "cell_type": "code",
   "execution_count": 2,
   "metadata": {},
   "outputs": [],
   "source": [
    "import numpy as np \n",
    "import pandas as pd"
   ]
  },
  {
   "cell_type": "code",
   "execution_count": 3,
   "metadata": {},
   "outputs": [],
   "source": [
    "df = pd.read_csv('course-catalog.csv') "
   ]
  },
  {
   "cell_type": "code",
   "execution_count": 4,
   "metadata": {},
   "outputs": [],
   "source": [
    "df.drop(columns=['Year', 'Term', 'YearTerm','Credit Hours', 'Section Info', 'Degree Attributes', 'Schedule Information', 'CRN', 'Section', 'Status Code', 'Part of Term', 'Section Title', 'Section Credit Hours', 'Section Status', 'Enrollment Status', 'Type', 'Type Code', 'Start Time', 'End Time', 'Days of Week', 'Room', 'Building', 'Instructors'], axis=1, inplace=True)\n",
    "#Good"
   ]
  },
  {
   "cell_type": "code",
   "execution_count": 5,
   "metadata": {},
   "outputs": [],
   "source": [
    "df=df.drop_duplicates()"
   ]
  },
  {
   "cell_type": "code",
   "execution_count": 6,
   "metadata": {},
   "outputs": [
    {
     "data": {
      "text/html": [
       "<div>\n",
       "<style scoped>\n",
       "    .dataframe tbody tr th:only-of-type {\n",
       "        vertical-align: middle;\n",
       "    }\n",
       "\n",
       "    .dataframe tbody tr th {\n",
       "        vertical-align: top;\n",
       "    }\n",
       "\n",
       "    .dataframe thead th {\n",
       "        text-align: right;\n",
       "    }\n",
       "</style>\n",
       "<table border=\"1\" class=\"dataframe\">\n",
       "  <thead>\n",
       "    <tr style=\"text-align: right;\">\n",
       "      <th></th>\n",
       "      <th>Subject</th>\n",
       "      <th>Number</th>\n",
       "      <th>Name</th>\n",
       "      <th>Description</th>\n",
       "    </tr>\n",
       "  </thead>\n",
       "  <tbody>\n",
       "    <tr>\n",
       "      <th>0</th>\n",
       "      <td>AAS</td>\n",
       "      <td>100</td>\n",
       "      <td>Intro Asian American Studies</td>\n",
       "      <td>Interdisciplinary introduction to the basic co...</td>\n",
       "    </tr>\n",
       "    <tr>\n",
       "      <th>12</th>\n",
       "      <td>AAS</td>\n",
       "      <td>200</td>\n",
       "      <td>U.S. Race and Empire</td>\n",
       "      <td>Invites students to examine histories and narr...</td>\n",
       "    </tr>\n",
       "    <tr>\n",
       "      <th>13</th>\n",
       "      <td>AAS</td>\n",
       "      <td>201</td>\n",
       "      <td>US Racial &amp;amp; Ethnic Politics</td>\n",
       "      <td>Same as AFRO 201, LLS 201, and PS 201. See PS ...</td>\n",
       "    </tr>\n",
       "    <tr>\n",
       "      <th>15</th>\n",
       "      <td>AAS</td>\n",
       "      <td>211</td>\n",
       "      <td>Asian Americans and the Arts</td>\n",
       "      <td>Examination of Asian American artistic express...</td>\n",
       "    </tr>\n",
       "    <tr>\n",
       "      <th>16</th>\n",
       "      <td>AAS</td>\n",
       "      <td>215</td>\n",
       "      <td>US Citizenship Comparatively</td>\n",
       "      <td>Examines the racial, gendered, and sexualized ...</td>\n",
       "    </tr>\n",
       "    <tr>\n",
       "      <th>17</th>\n",
       "      <td>AAS</td>\n",
       "      <td>275</td>\n",
       "      <td>The Politics of Fashion</td>\n",
       "      <td>Same as GWS 275. See GWS 275.</td>\n",
       "    </tr>\n",
       "    <tr>\n",
       "      <th>18</th>\n",
       "      <td>AAS</td>\n",
       "      <td>281</td>\n",
       "      <td>Constructing Race in America</td>\n",
       "      <td>Same as AFRO 281, HIST 281, and LLS 281. See H...</td>\n",
       "    </tr>\n",
       "    <tr>\n",
       "      <th>19</th>\n",
       "      <td>AAS</td>\n",
       "      <td>283</td>\n",
       "      <td>Asian American History</td>\n",
       "      <td>Same as HIST 283. See HIST 283.</td>\n",
       "    </tr>\n",
       "    <tr>\n",
       "      <th>20</th>\n",
       "      <td>AAS</td>\n",
       "      <td>286</td>\n",
       "      <td>Asian American Literature</td>\n",
       "      <td>Same as ENGL 286. See ENGL 286.</td>\n",
       "    </tr>\n",
       "    <tr>\n",
       "      <th>21</th>\n",
       "      <td>AAS</td>\n",
       "      <td>287</td>\n",
       "      <td>Food and Asian Americans</td>\n",
       "      <td>Introduction to the interdisciplinary study of...</td>\n",
       "    </tr>\n",
       "  </tbody>\n",
       "</table>\n",
       "</div>"
      ],
      "text/plain": [
       "   Subject  Number                             Name  \\\n",
       "0      AAS     100     Intro Asian American Studies   \n",
       "12     AAS     200             U.S. Race and Empire   \n",
       "13     AAS     201  US Racial &amp; Ethnic Politics   \n",
       "15     AAS     211     Asian Americans and the Arts   \n",
       "16     AAS     215     US Citizenship Comparatively   \n",
       "17     AAS     275          The Politics of Fashion   \n",
       "18     AAS     281     Constructing Race in America   \n",
       "19     AAS     283           Asian American History   \n",
       "20     AAS     286        Asian American Literature   \n",
       "21     AAS     287         Food and Asian Americans   \n",
       "\n",
       "                                          Description  \n",
       "0   Interdisciplinary introduction to the basic co...  \n",
       "12  Invites students to examine histories and narr...  \n",
       "13  Same as AFRO 201, LLS 201, and PS 201. See PS ...  \n",
       "15  Examination of Asian American artistic express...  \n",
       "16  Examines the racial, gendered, and sexualized ...  \n",
       "17                      Same as GWS 275. See GWS 275.  \n",
       "18  Same as AFRO 281, HIST 281, and LLS 281. See H...  \n",
       "19                    Same as HIST 283. See HIST 283.  \n",
       "20                    Same as ENGL 286. See ENGL 286.  \n",
       "21  Introduction to the interdisciplinary study of...  "
      ]
     },
     "execution_count": 6,
     "metadata": {},
     "output_type": "execute_result"
    }
   ],
   "source": [
    "df.head(10)\n",
    "#df.loc[(df['Subject']=='PS') & (df['Number']==201)]"
   ]
  },
  {
   "cell_type": "code",
   "execution_count": 7,
   "metadata": {},
   "outputs": [
    {
     "data": {
      "text/html": [
       "<div>\n",
       "<style scoped>\n",
       "    .dataframe tbody tr th:only-of-type {\n",
       "        vertical-align: middle;\n",
       "    }\n",
       "\n",
       "    .dataframe tbody tr th {\n",
       "        vertical-align: top;\n",
       "    }\n",
       "\n",
       "    .dataframe thead th {\n",
       "        text-align: right;\n",
       "    }\n",
       "</style>\n",
       "<table border=\"1\" class=\"dataframe\">\n",
       "  <thead>\n",
       "    <tr style=\"text-align: right;\">\n",
       "      <th></th>\n",
       "      <th>Subject</th>\n",
       "      <th>Number</th>\n",
       "      <th>Name</th>\n",
       "      <th>Description</th>\n",
       "    </tr>\n",
       "  </thead>\n",
       "  <tbody>\n",
       "    <tr>\n",
       "      <th>0</th>\n",
       "      <td>AAS</td>\n",
       "      <td>100</td>\n",
       "      <td>Intro Asian American Studies</td>\n",
       "      <td>Interdisciplinary introduction to the basic co...</td>\n",
       "    </tr>\n",
       "    <tr>\n",
       "      <th>12</th>\n",
       "      <td>AAS</td>\n",
       "      <td>200</td>\n",
       "      <td>U.S. Race and Empire</td>\n",
       "      <td>Invites students to examine histories and narr...</td>\n",
       "    </tr>\n",
       "    <tr>\n",
       "      <th>15</th>\n",
       "      <td>AAS</td>\n",
       "      <td>211</td>\n",
       "      <td>Asian Americans and the Arts</td>\n",
       "      <td>Examination of Asian American artistic express...</td>\n",
       "    </tr>\n",
       "    <tr>\n",
       "      <th>16</th>\n",
       "      <td>AAS</td>\n",
       "      <td>215</td>\n",
       "      <td>US Citizenship Comparatively</td>\n",
       "      <td>Examines the racial, gendered, and sexualized ...</td>\n",
       "    </tr>\n",
       "    <tr>\n",
       "      <th>21</th>\n",
       "      <td>AAS</td>\n",
       "      <td>287</td>\n",
       "      <td>Food and Asian Americans</td>\n",
       "      <td>Introduction to the interdisciplinary study of...</td>\n",
       "    </tr>\n",
       "  </tbody>\n",
       "</table>\n",
       "</div>"
      ],
      "text/plain": [
       "   Subject  Number                          Name  \\\n",
       "0      AAS     100  Intro Asian American Studies   \n",
       "12     AAS     200          U.S. Race and Empire   \n",
       "15     AAS     211  Asian Americans and the Arts   \n",
       "16     AAS     215  US Citizenship Comparatively   \n",
       "21     AAS     287      Food and Asian Americans   \n",
       "\n",
       "                                          Description  \n",
       "0   Interdisciplinary introduction to the basic co...  \n",
       "12  Invites students to examine histories and narr...  \n",
       "15  Examination of Asian American artistic express...  \n",
       "16  Examines the racial, gendered, and sexualized ...  \n",
       "21  Introduction to the interdisciplinary study of...  "
      ]
     },
     "execution_count": 7,
     "metadata": {},
     "output_type": "execute_result"
    }
   ],
   "source": [
    "##if it starts with 'Same as' then remove the tuple\n",
    "df = df[~df['Description'].fillna('').str.startswith('Same as')]\n",
    "\n",
    "df.head()"
   ]
  },
  {
   "cell_type": "code",
   "execution_count": 8,
   "metadata": {},
   "outputs": [
    {
     "data": {
      "text/plain": [
       "'\\nKeeping: \\nDoctoral Research Seminar\\n\\nRemoving:\\nOff-Campus Internship\\nOn-Campus Internship\\nUndergraduate Open Seminar\\nThesis Research\\nSpecial Research Problems\\nSenior Research\\nIndependent Study\\nSpecial Topics\\nUndergrad Research or Thesis\\nUndergraduate Open Seminar in Computer Science\\nIndividual Study\\nSeminar\\nSenior Project II, ACP\\nSenior Project II\\nAdvanced Seminar\\nHonors Research or Thesis\\nHonors Study Abroad Retrospect\\nSeminar Themes and Movements\\n'"
      ]
     },
     "execution_count": 8,
     "metadata": {},
     "output_type": "execute_result"
    }
   ],
   "source": [
    "'''\n",
    "Keeping: \n",
    "Doctoral Research Seminar\n",
    "\n",
    "Removing:\n",
    "Off-Campus Internship\n",
    "On-Campus Internship\n",
    "Undergraduate Open Seminar\n",
    "Thesis Research\n",
    "Special Research Problems\n",
    "Senior Research\n",
    "Independent Study\n",
    "Special Topics\n",
    "Undergrad Research or Thesis\n",
    "Undergraduate Open Seminar in Computer Science\n",
    "Individual Study\n",
    "Seminar\n",
    "Senior Project II, ACP\n",
    "Senior Project II\n",
    "Advanced Seminar\n",
    "Honors Research or Thesis\n",
    "Honors Study Abroad Retrospect\n",
    "Seminar Themes and Movements\n",
    "'''"
   ]
  },
  {
   "cell_type": "code",
   "execution_count": 9,
   "metadata": {},
   "outputs": [],
   "source": [
    "df.drop(df[df['Name'] == 'Off-Campus Internship'].index, inplace=True)\n",
    "df.drop(df[df['Name'] == 'On-Campus Internship'].index, inplace=True)\n",
    "df.drop(df[df['Name'] == 'Undergraduate Open Seminar'].index, inplace=True)\n",
    "df.drop(df[df['Name'] == 'Thesis Research'].index, inplace=True)\n",
    "df.drop(df[df['Name'] == 'Special Research Problems'].index, inplace=True)\n",
    "df.drop(df[df['Name'] == 'Senior Research'].index, inplace=True)\n",
    "df.drop(df[df['Name'] == 'Independent Study'].index, inplace=True)\n",
    "df.drop(df[df['Name'] == 'Special Topics'].index, inplace=True)\n",
    "df.drop(df[df['Name'] == 'Undergrad Research or Thesis'].index, inplace=True)\n",
    "df.drop(df[df['Name'] == 'Undergraduate Open Seminar in Computer Science'].index, inplace=True)\n",
    "df.drop(df[df['Name'] == 'Individual Study'].index, inplace=True)\n",
    "df.drop(df[df['Name'] == 'Seminar'].index, inplace=True)\n",
    "df.drop(df[df['Name'] == 'Senior Project II, ACP'].index, inplace=True)\n",
    "df.drop(df[df['Name'] == 'Senior Project II'].index, inplace=True)\n",
    "df.drop(df[df['Name'] == 'Advanced Seminar'].index, inplace=True)\n",
    "df.drop(df[df['Name'] == 'Honors Research or Thesis'].index, inplace=True)\n",
    "df.drop(df[df['Name'] == 'Honors Study Abroad Retrospect'].index, inplace=True)\n",
    "df.drop(df[df['Name'] == 'Seminar Themes and Movements'].index, inplace=True)\n",
    "\n",
    "#When clustering the remaining thesis classes should be far enough away that they should not show up"
   ]
  },
  {
   "cell_type": "code",
   "execution_count": 10,
   "metadata": {},
   "outputs": [],
   "source": [
    "#Delete classes that have matching descriptions\n",
    "\n",
    "df = df.drop_duplicates(subset=['Description'])"
   ]
  },
  {
   "cell_type": "code",
   "execution_count": 11,
   "metadata": {},
   "outputs": [
    {
     "name": "stdout",
     "output_type": "stream",
     "text": [
      "Total number of classes searchable: 3690\n"
     ]
    }
   ],
   "source": [
    "print(f'Total number of classes searchable: {df.shape[0]}')"
   ]
  },
  {
   "cell_type": "code",
   "execution_count": 12,
   "metadata": {},
   "outputs": [],
   "source": [
    "df=df.reset_index()\n",
    "\n",
    "df.to_csv('updated-course-catalog.csv')\n"
   ]
  },
  {
   "cell_type": "code",
   "execution_count": null,
   "metadata": {},
   "outputs": [],
   "source": []
  }
 ],
 "metadata": {
  "kernelspec": {
   "display_name": "Python 3",
   "language": "python",
   "name": "python3"
  },
  "language_info": {
   "codemirror_mode": {
    "name": "ipython",
    "version": 3
   },
   "file_extension": ".py",
   "mimetype": "text/x-python",
   "name": "python",
   "nbconvert_exporter": "python",
   "pygments_lexer": "ipython3",
   "version": "3.12.2"
  },
  "orig_nbformat": 4
 },
 "nbformat": 4,
 "nbformat_minor": 2
}
